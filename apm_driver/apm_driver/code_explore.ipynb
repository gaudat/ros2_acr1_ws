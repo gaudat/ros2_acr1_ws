{
 "cells": [
  {
   "cell_type": "code",
   "execution_count": 1,
   "id": "61178e46",
   "metadata": {},
   "outputs": [],
   "source": [
    "import tf_transformations"
   ]
  },
  {
   "cell_type": "code",
   "execution_count": 5,
   "id": "812fb013",
   "metadata": {},
   "outputs": [],
   "source": [
    "q = tf_transformations.quaternion_from_euler"
   ]
  },
  {
   "cell_type": "code",
   "execution_count": 6,
   "id": "f957720e",
   "metadata": {},
   "outputs": [
    {
     "data": {
      "text/plain": [
       "(-0.22984884706593015,\n",
       " 0.42073549240394825,\n",
       " 0.42073549240394825,\n",
       " 0.7701511529340699)"
      ]
     },
     "execution_count": 6,
     "metadata": {},
     "output_type": "execute_result"
    }
   ],
   "source": [
    "tf_transformations.quaternion_slerp"
   ]
  },
  {
   "cell_type": "code",
   "execution_count": null,
   "id": "0ee34154",
   "metadata": {},
   "outputs": [],
   "source": []
  }
 ],
 "metadata": {
  "kernelspec": {
   "display_name": "Python 3 (ipykernel)",
   "language": "python",
   "name": "python3"
  },
  "language_info": {
   "codemirror_mode": {
    "name": "ipython",
    "version": 3
   },
   "file_extension": ".py",
   "mimetype": "text/x-python",
   "name": "python",
   "nbconvert_exporter": "python",
   "pygments_lexer": "ipython3",
   "version": "3.8.10"
  }
 },
 "nbformat": 4,
 "nbformat_minor": 5
}
